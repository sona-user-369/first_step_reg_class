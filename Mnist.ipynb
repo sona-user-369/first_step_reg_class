{
 "cells": [
  {
   "cell_type": "markdown",
   "id": "1801a77f-c660-46a9-8b54-21f7752b605c",
   "metadata": {},
   "source": [
    "<h1> Hey &#128515; . Welcome to 'Hello world' of Machine Learning, the MNIST classification</h1>"
   ]
  },
  {
   "cell_type": "markdown",
   "id": "205410ca-b213-4e9b-b817-0bfbefcc0408",
   "metadata": {},
   "source": [
    "<h1>A- Preparing data </h1>"
   ]
  },
  {
   "cell_type": "code",
   "execution_count": 1,
   "id": "749a7c20-a787-45db-b1d4-909783525fba",
   "metadata": {},
   "outputs": [
    {
     "name": "stdout",
     "output_type": "stream",
     "text": [
      "dict_keys(['data', 'target', 'frame', 'categories', 'feature_names', 'target_names', 'DESCR', 'details', 'url'])\n"
     ]
    }
   ],
   "source": [
    "from sklearn.datasets import fetch_openml\n",
    "mnist = fetch_openml('mnist_784', version=1)\n",
    "print(mnist.keys())"
   ]
  },
  {
   "cell_type": "code",
   "execution_count": 2,
   "id": "209cf602-530a-4eb2-8c4d-c4fd607386d9",
   "metadata": {},
   "outputs": [
    {
     "data": {
      "image/png": "[encoded data removed]",
      "text/plain": [
       "<Figure size 640x480 with 1 Axes>"
      ]
     },
     "metadata": {},
     "output_type": "display_data"
    },
    {
     "name": "stdout",
     "output_type": "stream",
     "text": [
      "0    5\n",
      "Name: class, dtype: uint8\n"
     ]
    }
   ],
   "source": [
    "import matplotlib as mpl\n",
    "import matplotlib.pyplot as plt\n",
    "import numpy as np\n",
    "\n",
    "X, y = mnist['data'], mnist['target']\n",
    "y = y.astype(np.uint8)\n",
    "some_digit = np.array(X[:1])\n",
    "some_digit_image = some_digit.reshape(28,28)\n",
    "plt.imshow(some_digit_image, cmap= mpl.cm.binary, interpolation='nearest')\n",
    "plt.axis('off')\n",
    "plt.show()\n",
    "print(y[:1])"
   ]
  },
  {
   "cell_type": "code",
   "execution_count": 3,
   "id": "ee59163c-974e-461f-b777-a94b6683f4ff",
   "metadata": {},
   "outputs": [
    {
     "name": "stderr",
     "output_type": "stream",
     "text": [
      "C:\\Users\\HP\\AppData\\Local\\Programs\\Python\\Python39\\lib\\site-packages\\sklearn\\base.py:450: UserWarning: X does not have valid feature names, but SGDClassifier was fitted with feature names\n",
      "  warnings.warn(\n"
     ]
    },
    {
     "data": {
      "text/plain": [
       "array([ True])"
      ]
     },
     "execution_count": 3,
     "metadata": {},
     "output_type": "execute_result"
    }
   ],
   "source": [
    "from sklearn.linear_model import SGDClassifier\n",
    "\n",
    "X_train , X_test , y_train , y_test = X[:60000] , X[60000:] , y[:60000] , y[60000:]\n",
    "\n",
    "y_train_5 = (y_train == 5)\n",
    "\n",
    "sgd_clf = SGDClassifier(random_state=42)\n",
    "sgd_clf.fit(X_train, y_train_5)\n",
    "\n",
    "sgd_clf.predict(some_digit)"
   ]
  },
  {
   "cell_type": "code",
   "execution_count": 5,
   "id": "4a5e2df2-91da-4d89-a6b6-9c416752b5f3",
   "metadata": {},
   "outputs": [
    {
     "name": "stdout",
     "output_type": "stream",
     "text": [
      "[[53892   687]\n",
      " [ 1891  3530]]\n"
     ]
    },
    {
     "data": {
      "text/plain": [
       "0.8370879772350012"
      ]
     },
     "execution_count": 5,
     "metadata": {},
     "output_type": "execute_result"
    }
   ],
   "source": [
    "from sklearn.model_selection import cross_val_score, cross_val_predict\n",
    "from sklearn.metrics import confusion_matrix , precision_score, recall_score\n",
    "\n",
    "#Confusion matrix\n",
    "y_pred = cross_val_predict(sgd_clf, X_train, y_train_5 ,cv=3)\n",
    "\n",
    "matrix = confusion_matrix(y_train_5, y_pred)\n",
    "print(matrix)\n",
    "\n",
    "#Precision / Recall\n",
    "\n",
    "precision = precision_score(y_train_5, y_pred)\n",
    "recall = recall_score(y_train_5, y_pred)\n",
    "recall\n",
    "precision"
   ]
  },
  {
   "cell_type": "code",
   "execution_count": null,
   "id": "4617e08f-7ef9-4ab6-bffc-726c217c8506",
   "metadata": {},
   "outputs": [],
   "source": []
  }
 ],
 "metadata": {
  "kernelspec": {
   "display_name": "Python 3 (ipykernel)",
   "language": "python",
   "name": "python3"
  },
  "language_info": {
   "codemirror_mode": {
    "name": "ipython",
    "version": 3
   },
   "file_extension": ".py",
   "mimetype": "text/x-python",
   "name": "python",
   "nbconvert_exporter": "python",
   "pygments_lexer": "ipython3",
   "version": "3.9.12"
  }
 },
 "nbformat": 4,
 "nbformat_minor": 5
}
