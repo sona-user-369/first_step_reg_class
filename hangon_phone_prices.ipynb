{
 "cells": [
  {
   "cell_type": "code",
   "execution_count": 17,
   "metadata": {
    "collapsed": true,
    "ExecuteTime": {
     "end_time": "2023-09-13T13:20:58.032810587Z",
     "start_time": "2023-09-13T13:20:57.944650495Z"
    }
   },
   "outputs": [
    {
     "data": {
      "text/plain": "0       Huawei\n1           LG\n2       Huawei\n3       Xiaomi\n4       Huawei\n         ...  \n1507      Vivo\n1508    Realme\n1509    Realme\n1510    Realme\n1511      Vivo\nName: brand, Length: 1512, dtype: object"
     },
     "execution_count": 17,
     "metadata": {},
     "output_type": "execute_result"
    }
   ],
   "source": [
    "import numpy as np\n",
    "import pandas as pd\n",
    "from scripts import data_fetch\n",
    "\n",
    "PATH_DATA = 'DATASETS/phone_price'\n",
    "data: pd.DataFrame = data_fetch.load_data(PATH_DATA, 'cleaned_all_phones.csv')\n",
    "#\n",
    "data.describe()"
   ]
  },
  {
   "cell_type": "code",
   "execution_count": null,
   "outputs": [],
   "source": [],
   "metadata": {
    "collapsed": false
   }
  }
 ],
 "metadata": {
  "kernelspec": {
   "display_name": "Python 3",
   "language": "python",
   "name": "python3"
  },
  "language_info": {
   "codemirror_mode": {
    "name": "ipython",
    "version": 2
   },
   "file_extension": ".py",
   "mimetype": "text/x-python",
   "name": "python",
   "nbconvert_exporter": "python",
   "pygments_lexer": "ipython2",
   "version": "2.7.6"
  }
 },
 "nbformat": 4,
 "nbformat_minor": 0
}
