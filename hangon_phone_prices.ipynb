{
 "cells": [
  {
   "cell_type": "markdown",
   "source": [
    "<h1>This practice is about learning phone_prices data so as to perform prediction on prices giving some labels values.</h1"
   ],
   "metadata": {
    "collapsed": false
   }
  },
  {
   "cell_type": "markdown",
   "source": [
    "<h3>&#x2022; First let's load data and get look on some visualizations</h3>"
   ],
   "metadata": {
    "collapsed": false
   }
  },
  {
   "cell_type": "code",
   "execution_count": null,
   "outputs": [],
   "source": [
    "import numpy as np\n",
    "import pandas as pd\n",
    "from scripts import data_fetch\n",
    "import matplotlib.pyplot as plt\n",
    "\n",
    "PATH_DATA = 'DATASETS/phone_price'\n",
    "data: pd.DataFrame = data_fetch.load_data(PATH_DATA, 'cleaned_all_phones.csv')\n",
    "# let's look what our data look like\n",
    "print(data.describe())"
   ],
   "metadata": {
    "collapsed": false
   }
  },
  {
   "cell_type": "markdown",
   "source": [
    "<h3>Description</h3>\n",
    "<p>Based on what we have in the description of our data, we can say that if you wanna buy a phone you have to expected at mean 337.847036 bucks. On the same description, 25%(1st quartile) of phones cost lower than 179.997500 bucks, 50%(2nd quartile) of phones cost lower than 260.000000 bucks and 75%(3rd quartile) of phones cost lower than 400.000000 bucks. The most expensive phone cost 2300.000000 bucks. Wow so expensive ! Right ?</p>"
   ],
   "metadata": {
    "collapsed": false
   }
  },
  {
   "cell_type": "code",
   "execution_count": null,
   "outputs": [],
   "source": [
    "data.hist(bins=70, figsize=(100,70))\n",
    "plt.show()"
   ],
   "metadata": {
    "collapsed": false
   }
  },
  {
   "cell_type": "code",
   "execution_count": null,
   "outputs": [],
   "source": [],
   "metadata": {
    "collapsed": false
   }
  },
  {
   "cell_type": "code",
   "execution_count": null,
   "outputs": [],
   "source": [
    "#create train and test set help understand data and performs good learning avoided some data bias\n",
    "\n",
    "# for do that may be you have the idea of shuffling data. You are right but by doing that we can have serious problems about having reproducible data for our model\n",
    "\n",
    "#one method\n",
    "from zlib import crc32\n",
    "def indentify_index(identifier, test_ratio):\n",
    "    return crc32(np.int32(identifier)) & 0xffffffff < test_ratio * 2*32\n",
    "\n",
    "def train_test_split(data_instance, id_column, test_ratio):\n",
    "    ids = data_instance[id_column]\n",
    "    tampon = ids.apply(lambda _id: indentify_index(_id, test_ratio))\n",
    "    return data_instance.loc[~tampon], data_instance.loc[tampon]\n",
    "\n",
    "# by this you can get train and test sets by calling train_test_split(data, 'index', 0.2)\n",
    "#data.reset_index() create column data column 'index'\n",
    "\n",
    "# another method is to use train_test_split of sklearn.model_selection and fix random_state value 42 generally for ensure that our result will reproducible"
   ],
   "metadata": {
    "collapsed": false
   }
  },
  {
   "cell_type": "code",
   "execution_count": null,
   "outputs": [],
   "source": [
    "# Know that we don't have enough data, so we have to stratify this to get serious result and not bias\n",
    "print(data.isnull().sum())\n",
    "from sklearn.model_selection import StratifiedShuffleSplit\n",
    "\n",
    "data[\"storage_cut\"] = pd.cut(\n",
    "    data[\"storage(GB)\"],\n",
    "    bins=[1.,  128., np.inf],\n",
    "    labels = [1, 2]\n",
    ")\n",
    "\n",
    "\n",
    "print(data[\"storage_cut\"].value_counts().sum())\n",
    "split = StratifiedShuffleSplit(n_splits=1, random_state=42, test_size=0.2)\n",
    "for train_index , test_index in split.split(data, data[\"storage_cut\"]):\n",
    "    strats_train_sets = data.loc[train_index]\n",
    "    strats_test_sets = data.loc[test_index]\n",
    "\n",
    "\n",
    "data.corr()"
   ],
   "metadata": {
    "collapsed": false
   }
  },
  {
   "cell_type": "code",
   "execution_count": null,
   "outputs": [],
   "source": [],
   "metadata": {
    "collapsed": false
   }
  }
 ],
 "metadata": {
  "kernelspec": {
   "display_name": "Python 3",
   "language": "python",
   "name": "python3"
  },
  "language_info": {
   "codemirror_mode": {
    "name": "ipython",
    "version": 2
   },
   "file_extension": ".py",
   "mimetype": "text/x-python",
   "name": "python",
   "nbconvert_exporter": "python",
   "pygments_lexer": "ipython2",
   "version": "2.7.6"
  }
 },
 "nbformat": 4,
 "nbformat_minor": 0
}
